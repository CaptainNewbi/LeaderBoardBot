{
 "cells": [
  {
   "cell_type": "code",
   "execution_count": 394,
   "id": "70535fb0",
   "metadata": {},
   "outputs": [
    {
     "ename": "ModuleNotFoundError",
     "evalue": "No module named 'pyreplib'",
     "output_type": "error",
     "traceback": [
      "\u001b[1;31m---------------------------------------------------------------------------\u001b[0m",
      "\u001b[1;31mModuleNotFoundError\u001b[0m                       Traceback (most recent call last)",
      "Cell \u001b[1;32mIn[394], line 2\u001b[0m\n\u001b[0;32m      1\u001b[0m \u001b[38;5;28;01mimport\u001b[39;00m \u001b[38;5;21;01mos\u001b[39;00m\n\u001b[1;32m----> 2\u001b[0m \u001b[38;5;28;01mimport\u001b[39;00m \u001b[38;5;21;01mpyreplib\u001b[39;00m\n\u001b[0;32m      3\u001b[0m \u001b[38;5;28;01mclass\u001b[39;00m \u001b[38;5;21;01mleaderBoardUtility\u001b[39;00m():\n\u001b[0;32m      4\u001b[0m     players      \u001b[38;5;241m=\u001b[39m []\n",
      "\u001b[1;31mModuleNotFoundError\u001b[0m: No module named 'pyreplib'"
     ]
    }
   ],
   "source": [
    "import os\n",
    "import pyreplib # Read Starcraft Brood War replays\n",
    "class leaderBoardUtility():\n",
    "    players      = []\n",
    "    ratings      = []\n",
    "\n",
    "    fileName     = \"LeaderBoard.txt\"\n",
    "    \n",
    "    winnerName   = \"\"\n",
    "    loserName    = \"\"\n",
    "\n",
    "    # Initialization Function\n",
    "    def __init__(self, path):\n",
    "        \n",
    "        if path[-1] != \"/\":\n",
    "            path = path + \"/\"\n",
    "            \n",
    "        self.fullFile = path + self.fileName\n",
    "       \n",
    "        self.loadLeaderBoard()\n",
    "        \n",
    "    # Get the player's rating\n",
    "    def getPlayersRating(self, playerName):\n",
    "        \n",
    "        for i in range(len(self.ratings)):\n",
    "            \n",
    "            if playerName == self.players[i]:\n",
    "                \n",
    "                return int(self.ratings[i]), i\n",
    "\n",
    "    # Find the expected probability to win the game based on rating\n",
    "    def expectedProbability(self, differenceInPlayerRating):\n",
    "        scaleFactor  = 400.0\n",
    "        exponentBase = 10.0\n",
    "    \n",
    "        return (1.0 / ( 1.0 + pow(exponentBase, differenceInPlayerRating/scaleFactor) ) )\n",
    "    \n",
    "    # Update each players Rating\n",
    "    def updateRatings(self):\n",
    "        # Kfactor normally is 32, but can change based on ratings if desired, example below\n",
    "        # Players below 2100: K-factor of 32 used\n",
    "        # Players between 2100 and 2400: K-factor of 24 used\n",
    "        # Players above 2400: K-factor of 16 used.\n",
    "\n",
    "        kFactor     = 32.0\n",
    "        winnerScore = 1.0\n",
    "        loserScore  = 0.0\n",
    "        \n",
    "        winnerRating, winnerIdx = self.getPlayersRating(self.winnerName)\n",
    "        loserRating,  loserIdx  = self.getPlayersRating(self.loserName)\n",
    "        \n",
    "        expectedProbToWin       = self.expectedProbability( loserRating  - winnerRating )\n",
    "        expectedProbToLose      = self.expectedProbability( winnerRating - loserRating )\n",
    "\n",
    "        self.ratings[winnerIdx] = (winnerRating + round(kFactor*( winnerScore - expectedProbToWin  ) ) )\n",
    "        self.ratings[loserIdx]  = (loserRating  + round(kFactor*( loserScore  - expectedProbToLose ) ) )\n",
    "    \n",
    "    # Load leaderboard from txt file\n",
    "    def loadLeaderBoard(self):\n",
    "        if os.path.isfile(self.fullFile):\n",
    "            file     = open(self.fullFile, 'r')\n",
    "            fileData = file.read()\n",
    "\n",
    "            file.close()\n",
    "\n",
    "            fileData = fileData.replace(\"\\n\", \"\")\n",
    "            fileData = fileData.split(\",\")\n",
    "\n",
    "            self.players = fileData[::2]\n",
    "            self.ratings = fileData[1::2] \n",
    "        else:\n",
    "            file = open(\"LeaderBoard.txt\", \"w\")\n",
    "            file.write(\"default, 0\")\n",
    "            file.close()\n",
    "            \n",
    "    # Save leaderboard to text file\n",
    "    def saveLeaderBoard(self):\n",
    "        data = \"\"\n",
    "        for i in range(len(self.ratings)):\n",
    "            if self.players[i] != \"default\":\n",
    "                data = data + self.players[i] + \",\" + str(self.ratings[i]) + \",\\n\" \n",
    "\n",
    "        file = open(self.fullFile, 'w')\n",
    "        file.write(data)\n",
    "        file.close()\n",
    "        return 0\n",
    "\n",
    "    # Update internal variables\n",
    "    def update(self, winnerName, loserName):\n",
    "        self.winnerName = winnerName\n",
    "        self.loserName  = loserName\n",
    "        self.updateRatings()\n",
    "        self.saveLeaderBoard()"
   ]
  },
  {
   "cell_type": "code",
   "execution_count": 386,
   "id": "0309d960",
   "metadata": {},
   "outputs": [],
   "source": [
    "#def addNewPlayer(playerName, )"
   ]
  },
  {
   "cell_type": "code",
   "execution_count": 387,
   "id": "f7fb3965",
   "metadata": {},
   "outputs": [],
   "source": [
    "# Initialize variables \n",
    "path = \"C:/Users/Newbi/Documents/GitHub/LeaderBoardBot/\"\n",
    "lbUtils = leaderBoardUtility(path)"
   ]
  },
  {
   "cell_type": "code",
   "execution_count": 391,
   "id": "d97bf463",
   "metadata": {},
   "outputs": [],
   "source": [
    "# Get Players name and who won from file\n",
    "# TODO: Implement file reading\n",
    "winnerName = 'player2'\n",
    "loserName  = 'player3'"
   ]
  },
  {
   "cell_type": "code",
   "execution_count": 393,
   "id": "5a0394b0",
   "metadata": {},
   "outputs": [],
   "source": [
    "lbUtils.update(winnerName, loserName)"
   ]
  },
  {
   "cell_type": "code",
   "execution_count": null,
   "id": "2834d5c1",
   "metadata": {},
   "outputs": [],
   "source": []
  },
  {
   "cell_type": "code",
   "execution_count": null,
   "id": "30b8bbb7",
   "metadata": {},
   "outputs": [],
   "source": []
  },
  {
   "cell_type": "code",
   "execution_count": null,
   "id": "21a01894",
   "metadata": {},
   "outputs": [],
   "source": []
  },
  {
   "cell_type": "code",
   "execution_count": null,
   "id": "25849c30",
   "metadata": {},
   "outputs": [],
   "source": []
  },
  {
   "cell_type": "code",
   "execution_count": null,
   "id": "7ce5ca1f",
   "metadata": {},
   "outputs": [],
   "source": []
  },
  {
   "cell_type": "code",
   "execution_count": null,
   "id": "f549a5a6",
   "metadata": {},
   "outputs": [],
   "source": []
  }
 ],
 "metadata": {
  "kernelspec": {
   "display_name": "Python 3 (ipykernel)",
   "language": "python",
   "name": "python3"
  },
  "language_info": {
   "codemirror_mode": {
    "name": "ipython",
    "version": 3
   },
   "file_extension": ".py",
   "mimetype": "text/x-python",
   "name": "python",
   "nbconvert_exporter": "python",
   "pygments_lexer": "ipython3",
   "version": "3.11.5"
  }
 },
 "nbformat": 4,
 "nbformat_minor": 5
}
